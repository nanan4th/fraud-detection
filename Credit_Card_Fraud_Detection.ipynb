{
  "cells": [
    {
      "cell_type": "markdown",
      "metadata": {
        "id": "yV6qtfFAI8nQ"
      },
      "source": [
        "# Import Dataset"
      ]
    },
    {
      "cell_type": "code",
      "execution_count": 1,
      "metadata": {
        "id": "YyjRO2zsI7Kw"
      },
      "outputs": [],
      "source": [
        "import numpy as np\n",
        "import matplotlib.pyplot as plt\n",
        "import pandas as pd\n",
        "%matplotlib inline\n",
        "import seaborn as sns\n",
        "from sklearn.model_selection import train_test_split\n",
        "from sklearn.preprocessing import MinMaxScaler\n",
        "from sklearn.metrics import precision_score, recall_score, classification_report, accuracy_score, f1_score, ConfusionMatrixDisplay"
      ]
    },
    {
      "cell_type": "markdown",
      "metadata": {
        "id": "lPWNQ0LWJDCb"
      },
      "source": [
        "# Load Dataset"
      ]
    },
    {
      "cell_type": "markdown",
      "metadata": {
        "id": "ImMv2Ji7JmFt"
      },
      "source": [
        "Sumber dataset: https://www.kaggle.com/datasets/dhanushnarayananr/credit-card-fraud/metadata"
      ]
    },
    {
      "cell_type": "code",
      "execution_count": 2,
      "metadata": {
        "colab": {
          "base_uri": "https://localhost:8080/"
        },
        "id": "6EM1X-8rJB9D",
        "outputId": "41cc4dc4-1a06-4259-8fba-0735fe44f386"
      },
      "outputs": [
        {
          "name": "stdout",
          "output_type": "stream",
          "text": [
            "data terdiri dari 1000000 baris dan 8 kolom\n"
          ]
        }
      ],
      "source": [
        "url = 'dataset/data.csv'\n",
        "data = pd.read_csv(url)\n",
        "data =  pd.DataFrame(data)\n",
        "print(\"data terdiri dari {} baris dan {} kolom\".format(data.shape[0], data.shape[1]))"
      ]
    },
    {
      "cell_type": "code",
      "execution_count": 3,
      "metadata": {
        "colab": {
          "base_uri": "https://localhost:8080/",
          "height": 270
        },
        "id": "KxWWEs82OObQ",
        "outputId": "b4ec482b-eeb1-4ea6-fe80-2834943cc756"
      },
      "outputs": [
        {
          "data": {
            "text/html": [
              "<div>\n",
              "<style scoped>\n",
              "    .dataframe tbody tr th:only-of-type {\n",
              "        vertical-align: middle;\n",
              "    }\n",
              "\n",
              "    .dataframe tbody tr th {\n",
              "        vertical-align: top;\n",
              "    }\n",
              "\n",
              "    .dataframe thead th {\n",
              "        text-align: right;\n",
              "    }\n",
              "</style>\n",
              "<table border=\"1\" class=\"dataframe\">\n",
              "  <thead>\n",
              "    <tr style=\"text-align: right;\">\n",
              "      <th></th>\n",
              "      <th>distance_from_home</th>\n",
              "      <th>distance_from_last_transaction</th>\n",
              "      <th>ratio_to_median_purchase_price</th>\n",
              "      <th>repeat_retailer</th>\n",
              "      <th>used_chip</th>\n",
              "      <th>used_pin_number</th>\n",
              "      <th>online_order</th>\n",
              "      <th>fraud</th>\n",
              "    </tr>\n",
              "  </thead>\n",
              "  <tbody>\n",
              "    <tr>\n",
              "      <th>0</th>\n",
              "      <td>57.877857</td>\n",
              "      <td>0.311140</td>\n",
              "      <td>1.945940</td>\n",
              "      <td>1.0</td>\n",
              "      <td>1.0</td>\n",
              "      <td>0.0</td>\n",
              "      <td>0.0</td>\n",
              "      <td>0.0</td>\n",
              "    </tr>\n",
              "    <tr>\n",
              "      <th>1</th>\n",
              "      <td>10.829943</td>\n",
              "      <td>0.175592</td>\n",
              "      <td>1.294219</td>\n",
              "      <td>1.0</td>\n",
              "      <td>0.0</td>\n",
              "      <td>0.0</td>\n",
              "      <td>0.0</td>\n",
              "      <td>0.0</td>\n",
              "    </tr>\n",
              "    <tr>\n",
              "      <th>2</th>\n",
              "      <td>5.091079</td>\n",
              "      <td>0.805153</td>\n",
              "      <td>0.427715</td>\n",
              "      <td>1.0</td>\n",
              "      <td>0.0</td>\n",
              "      <td>0.0</td>\n",
              "      <td>1.0</td>\n",
              "      <td>0.0</td>\n",
              "    </tr>\n",
              "    <tr>\n",
              "      <th>3</th>\n",
              "      <td>2.247564</td>\n",
              "      <td>5.600044</td>\n",
              "      <td>0.362663</td>\n",
              "      <td>1.0</td>\n",
              "      <td>1.0</td>\n",
              "      <td>0.0</td>\n",
              "      <td>1.0</td>\n",
              "      <td>0.0</td>\n",
              "    </tr>\n",
              "    <tr>\n",
              "      <th>4</th>\n",
              "      <td>44.190936</td>\n",
              "      <td>0.566486</td>\n",
              "      <td>2.222767</td>\n",
              "      <td>1.0</td>\n",
              "      <td>1.0</td>\n",
              "      <td>0.0</td>\n",
              "      <td>1.0</td>\n",
              "      <td>0.0</td>\n",
              "    </tr>\n",
              "  </tbody>\n",
              "</table>\n",
              "</div>"
            ],
            "text/plain": [
              "   distance_from_home  distance_from_last_transaction  \\\n",
              "0           57.877857                        0.311140   \n",
              "1           10.829943                        0.175592   \n",
              "2            5.091079                        0.805153   \n",
              "3            2.247564                        5.600044   \n",
              "4           44.190936                        0.566486   \n",
              "\n",
              "   ratio_to_median_purchase_price  repeat_retailer  used_chip  \\\n",
              "0                        1.945940              1.0        1.0   \n",
              "1                        1.294219              1.0        0.0   \n",
              "2                        0.427715              1.0        0.0   \n",
              "3                        0.362663              1.0        1.0   \n",
              "4                        2.222767              1.0        1.0   \n",
              "\n",
              "   used_pin_number  online_order  fraud  \n",
              "0              0.0           0.0    0.0  \n",
              "1              0.0           0.0    0.0  \n",
              "2              0.0           1.0    0.0  \n",
              "3              0.0           1.0    0.0  \n",
              "4              0.0           1.0    0.0  "
            ]
          },
          "execution_count": 3,
          "metadata": {},
          "output_type": "execute_result"
        }
      ],
      "source": [
        "data.head()"
      ]
    },
    {
      "cell_type": "markdown",
      "metadata": {
        "id": "WOl18k50LfUW"
      },
      "source": [
        "# EDA\n"
      ]
    },
    {
      "cell_type": "markdown",
      "metadata": {
        "id": "PgNBSFYML4Et"
      },
      "source": [
        "## Data Description"
      ]
    },
    {
      "cell_type": "markdown",
      "metadata": {
        "id": "EaL5k36ML73-"
      },
      "source": [
        "Penjelasan Fitur:\n",
        "- distance_from_home : jarak dari rumah ke tempat dimana transaksi dilakukan\n",
        "- distance_from_last_transaction : jarak dari tempat terakhir dilakukannya transaksi\n",
        "- ratio_to_median_purchase_price : rasio transaksi dengan median harga beli\n",
        "- repeat_retailer : apakah transaksi terjadi dari retail yang sama\n",
        "- used_chip : apakah transaksi melalui chip (credit card)\n",
        "- used_pin_number : apakah transaksi tersebut menggunakan nomor pin\n",
        "- online_order : apakah transaksi tersebut merupakan pesanan online\n",
        "- fraud : apakah transaksi tersebut termasuk penipuan (fraud)"
      ]
    },
    {
      "cell_type": "code",
      "execution_count": 4,
      "metadata": {
        "colab": {
          "base_uri": "https://localhost:8080/"
        },
        "id": "PS4gAJaOLhhh",
        "outputId": "38cfad47-b656-4125-b5ed-bf5e75ce74a5"
      },
      "outputs": [
        {
          "name": "stdout",
          "output_type": "stream",
          "text": [
            "<class 'pandas.core.frame.DataFrame'>\n",
            "RangeIndex: 1000000 entries, 0 to 999999\n",
            "Data columns (total 8 columns):\n",
            " #   Column                          Non-Null Count    Dtype  \n",
            "---  ------                          --------------    -----  \n",
            " 0   distance_from_home              1000000 non-null  float64\n",
            " 1   distance_from_last_transaction  1000000 non-null  float64\n",
            " 2   ratio_to_median_purchase_price  1000000 non-null  float64\n",
            " 3   repeat_retailer                 1000000 non-null  float64\n",
            " 4   used_chip                       1000000 non-null  float64\n",
            " 5   used_pin_number                 1000000 non-null  float64\n",
            " 6   online_order                    1000000 non-null  float64\n",
            " 7   fraud                           1000000 non-null  float64\n",
            "dtypes: float64(8)\n",
            "memory usage: 61.0 MB\n"
          ]
        }
      ],
      "source": [
        "data.info()"
      ]
    },
    {
      "cell_type": "code",
      "execution_count": 5,
      "metadata": {
        "colab": {
          "base_uri": "https://localhost:8080/",
          "height": 364
        },
        "id": "81OFJtVkSXeZ",
        "outputId": "f0981dd0-ef22-4674-cae7-4985b7dcc911"
      },
      "outputs": [
        {
          "data": {
            "text/html": [
              "<div>\n",
              "<style scoped>\n",
              "    .dataframe tbody tr th:only-of-type {\n",
              "        vertical-align: middle;\n",
              "    }\n",
              "\n",
              "    .dataframe tbody tr th {\n",
              "        vertical-align: top;\n",
              "    }\n",
              "\n",
              "    .dataframe thead th {\n",
              "        text-align: right;\n",
              "    }\n",
              "</style>\n",
              "<table border=\"1\" class=\"dataframe\">\n",
              "  <thead>\n",
              "    <tr style=\"text-align: right;\">\n",
              "      <th></th>\n",
              "      <th>distance_from_home</th>\n",
              "      <th>distance_from_last_transaction</th>\n",
              "      <th>ratio_to_median_purchase_price</th>\n",
              "      <th>repeat_retailer</th>\n",
              "      <th>used_chip</th>\n",
              "      <th>used_pin_number</th>\n",
              "      <th>online_order</th>\n",
              "      <th>fraud</th>\n",
              "    </tr>\n",
              "  </thead>\n",
              "  <tbody>\n",
              "    <tr>\n",
              "      <th>count</th>\n",
              "      <td>1000000.000000</td>\n",
              "      <td>1000000.000000</td>\n",
              "      <td>1000000.000000</td>\n",
              "      <td>1000000.000000</td>\n",
              "      <td>1000000.000000</td>\n",
              "      <td>1000000.000000</td>\n",
              "      <td>1000000.000000</td>\n",
              "      <td>1000000.000000</td>\n",
              "    </tr>\n",
              "    <tr>\n",
              "      <th>mean</th>\n",
              "      <td>26.628792</td>\n",
              "      <td>5.036519</td>\n",
              "      <td>1.824182</td>\n",
              "      <td>0.881536</td>\n",
              "      <td>0.350399</td>\n",
              "      <td>0.100608</td>\n",
              "      <td>0.650552</td>\n",
              "      <td>0.087403</td>\n",
              "    </tr>\n",
              "    <tr>\n",
              "      <th>std</th>\n",
              "      <td>65.390784</td>\n",
              "      <td>25.843093</td>\n",
              "      <td>2.799589</td>\n",
              "      <td>0.323157</td>\n",
              "      <td>0.477095</td>\n",
              "      <td>0.300809</td>\n",
              "      <td>0.476796</td>\n",
              "      <td>0.282425</td>\n",
              "    </tr>\n",
              "    <tr>\n",
              "      <th>min</th>\n",
              "      <td>0.004874</td>\n",
              "      <td>0.000118</td>\n",
              "      <td>0.004399</td>\n",
              "      <td>0.000000</td>\n",
              "      <td>0.000000</td>\n",
              "      <td>0.000000</td>\n",
              "      <td>0.000000</td>\n",
              "      <td>0.000000</td>\n",
              "    </tr>\n",
              "    <tr>\n",
              "      <th>25%</th>\n",
              "      <td>3.878008</td>\n",
              "      <td>0.296671</td>\n",
              "      <td>0.475673</td>\n",
              "      <td>1.000000</td>\n",
              "      <td>0.000000</td>\n",
              "      <td>0.000000</td>\n",
              "      <td>0.000000</td>\n",
              "      <td>0.000000</td>\n",
              "    </tr>\n",
              "    <tr>\n",
              "      <th>50%</th>\n",
              "      <td>9.967760</td>\n",
              "      <td>0.998650</td>\n",
              "      <td>0.997717</td>\n",
              "      <td>1.000000</td>\n",
              "      <td>0.000000</td>\n",
              "      <td>0.000000</td>\n",
              "      <td>1.000000</td>\n",
              "      <td>0.000000</td>\n",
              "    </tr>\n",
              "    <tr>\n",
              "      <th>75%</th>\n",
              "      <td>25.743985</td>\n",
              "      <td>3.355748</td>\n",
              "      <td>2.096370</td>\n",
              "      <td>1.000000</td>\n",
              "      <td>1.000000</td>\n",
              "      <td>0.000000</td>\n",
              "      <td>1.000000</td>\n",
              "      <td>0.000000</td>\n",
              "    </tr>\n",
              "    <tr>\n",
              "      <th>max</th>\n",
              "      <td>10632.723672</td>\n",
              "      <td>11851.104565</td>\n",
              "      <td>267.802942</td>\n",
              "      <td>1.000000</td>\n",
              "      <td>1.000000</td>\n",
              "      <td>1.000000</td>\n",
              "      <td>1.000000</td>\n",
              "      <td>1.000000</td>\n",
              "    </tr>\n",
              "  </tbody>\n",
              "</table>\n",
              "</div>"
            ],
            "text/plain": [
              "       distance_from_home  distance_from_last_transaction  \\\n",
              "count      1000000.000000                  1000000.000000   \n",
              "mean            26.628792                        5.036519   \n",
              "std             65.390784                       25.843093   \n",
              "min              0.004874                        0.000118   \n",
              "25%              3.878008                        0.296671   \n",
              "50%              9.967760                        0.998650   \n",
              "75%             25.743985                        3.355748   \n",
              "max          10632.723672                    11851.104565   \n",
              "\n",
              "       ratio_to_median_purchase_price  repeat_retailer       used_chip  \\\n",
              "count                  1000000.000000   1000000.000000  1000000.000000   \n",
              "mean                         1.824182         0.881536        0.350399   \n",
              "std                          2.799589         0.323157        0.477095   \n",
              "min                          0.004399         0.000000        0.000000   \n",
              "25%                          0.475673         1.000000        0.000000   \n",
              "50%                          0.997717         1.000000        0.000000   \n",
              "75%                          2.096370         1.000000        1.000000   \n",
              "max                        267.802942         1.000000        1.000000   \n",
              "\n",
              "       used_pin_number    online_order           fraud  \n",
              "count   1000000.000000  1000000.000000  1000000.000000  \n",
              "mean          0.100608        0.650552        0.087403  \n",
              "std           0.300809        0.476796        0.282425  \n",
              "min           0.000000        0.000000        0.000000  \n",
              "25%           0.000000        0.000000        0.000000  \n",
              "50%           0.000000        1.000000        0.000000  \n",
              "75%           0.000000        1.000000        0.000000  \n",
              "max           1.000000        1.000000        1.000000  "
            ]
          },
          "execution_count": 5,
          "metadata": {},
          "output_type": "execute_result"
        }
      ],
      "source": [
        "data.describe()"
      ]
    },
    {
      "cell_type": "markdown",
      "metadata": {
        "id": "b-9pOb2WTDFF"
      },
      "source": [
        "## Handle Noise Data"
      ]
    },
    {
      "cell_type": "markdown",
      "metadata": {
        "id": "yN0-NjR1ZVy2"
      },
      "source": [
        "### Missing Values"
      ]
    },
    {
      "cell_type": "markdown",
      "metadata": {
        "id": "quIPOeyEq5Ex"
      },
      "source": [
        "Mengecek duplikasi data"
      ]
    },
    {
      "cell_type": "code",
      "execution_count": 6,
      "metadata": {
        "colab": {
          "base_uri": "https://localhost:8080/"
        },
        "id": "MtarkdtCq3Oh",
        "outputId": "35e0adb3-7dc2-47b8-f0f7-b715fd58042e"
      },
      "outputs": [
        {
          "name": "stdout",
          "output_type": "stream",
          "text": [
            "Tidak terdapat redundansi\n"
          ]
        }
      ],
      "source": [
        "if data.duplicated().sum() > 0:\n",
        "  print('Terdapat redundansi')\n",
        "else:\n",
        "  print('Tidak terdapat redundansi')"
      ]
    },
    {
      "cell_type": "markdown",
      "metadata": {
        "id": "-wEj9pOLq8bM"
      },
      "source": [
        "Mengecek apakah ada nilai null"
      ]
    },
    {
      "cell_type": "code",
      "execution_count": 7,
      "metadata": {
        "colab": {
          "base_uri": "https://localhost:8080/"
        },
        "id": "V6znQ8uJdMUX",
        "outputId": "1d70f66b-b8ab-4b0c-f0b2-00b161b580d8"
      },
      "outputs": [
        {
          "name": "stdout",
          "output_type": "stream",
          "text": [
            "Jumlah missing value adalah : 0\n"
          ]
        }
      ],
      "source": [
        "print('Jumlah missing value adalah :', data.isnull().sum().sum())"
      ]
    },
    {
      "cell_type": "markdown",
      "metadata": {
        "id": "vA4tr7dd34Db"
      },
      "source": [
        "Mengecek apakah ada nilai yang tidak sesuai pada data boolean"
      ]
    },
    {
      "cell_type": "code",
      "execution_count": 8,
      "metadata": {
        "id": "YRNJLkbMYL4U"
      },
      "outputs": [],
      "source": [
        "boolean_features = [\"repeat_retailer\", \"used_chip\", \"used_pin_number\", \"online_order\", \"fraud\"]"
      ]
    },
    {
      "cell_type": "code",
      "execution_count": 9,
      "metadata": {
        "colab": {
          "base_uri": "https://localhost:8080/"
        },
        "id": "5s8ca8i2SuIl",
        "outputId": "b352d143-d74a-4865-c573-ef0494a0ebb6"
      },
      "outputs": [
        {
          "name": "stdout",
          "output_type": "stream",
          "text": [
            "unique values from: repeat_retailer\n",
            "[1. 0.]\n",
            "unique values from: used_chip\n",
            "[1. 0.]\n",
            "unique values from: used_pin_number\n",
            "[0. 1.]\n",
            "unique values from: online_order\n",
            "[0. 1.]\n",
            "unique values from: fraud\n",
            "[0. 1.]\n"
          ]
        }
      ],
      "source": [
        "for feature in boolean_features:\n",
        "  print(\"unique values from: {}\".format(feature))\n",
        "  print(data[feature].unique())"
      ]
    },
    {
      "cell_type": "markdown",
      "metadata": {
        "id": "v3wLKQap4XmS"
      },
      "source": [
        "## Univariate"
      ]
    },
    {
      "cell_type": "code",
      "execution_count": 10,
      "metadata": {
        "colab": {
          "base_uri": "https://localhost:8080/",
          "height": 834
        },
        "id": "iECTKDL0skip",
        "outputId": "f5776ec6-b12c-4c8d-c896-46581dca6835"
      },
      "outputs": [
        {
          "data": {
            "image/png": "[encoded data removed]",
            "text/plain": [
              "<Figure size 1440x1080 with 9 Axes>"
            ]
          },
          "metadata": {
            "needs_background": "light"
          },
          "output_type": "display_data"
        }
      ],
      "source": [
        "data.hist(bins=50, figsize=(20,15))\n",
        "plt.show()"
      ]
    },
    {
      "cell_type": "code",
      "execution_count": 11,
      "metadata": {
        "colab": {
          "base_uri": "https://localhost:8080/"
        },
        "id": "_NojHAMWsmuM",
        "outputId": "db90e8b1-0542-45cf-be9d-b7965402e04e"
      },
      "outputs": [
        {
          "name": "stdout",
          "output_type": "stream",
          "text": [
            "jumlah fitur fraud bernilai 0 adalah 912597 dengan persentase 91.2597%\n",
            "jumlah fitur fraud bernilai 1 adalah 87403 dengan persentase 8.7403%\n"
          ]
        }
      ],
      "source": [
        "fraud_0 = (data['fraud'] == 0).sum()\n",
        "fraud_1 = (data['fraud'] == 1).sum()\n",
        "print(\"jumlah fitur fraud bernilai 0 adalah {} dengan persentase {}%\".format(fraud_0, (fraud_0/data.shape[0])*100))\n",
        "print(\"jumlah fitur fraud bernilai 1 adalah {} dengan persentase {}%\".format(fraud_1, (fraud_1/data.shape[0])*100))"
      ]
    },
    {
      "cell_type": "markdown",
      "metadata": {
        "id": "IWfWDCSX3-Vo"
      },
      "source": [
        "Dari histogram diatas, kita bisa memahami beberapa informasi, antara lain:\n",
        "- distribusi data numerikal kontinyu (distance_from_home, distance_from_last_transaction dan ratio_to_median_purchase_price) miring ke kanan atau right-skewed. Hal ini akan berimplikasi pada model sehingga lebih baik dilakukan standarisasi nantinya.\n",
        "- distribusi data fraud tidak seimbang (imbalance data) sehingga ada baiknya dilakukan undersampling.\n"
      ]
    },
    {
      "cell_type": "markdown",
      "metadata": {
        "id": "xDgbHuqK59GI"
      },
      "source": [
        "## Undersampling"
      ]
    },
    {
      "cell_type": "markdown",
      "metadata": {
        "id": "F4xjo9tF5RtO"
      },
      "source": [
        "Disini saya akan melakukan undersampling. Saya akan melakukan \"Random Under Sampling\" dengan menghilangkan data sehingga distribusi datanya bisa lebih seimbang."
      ]
    },
    {
      "cell_type": "markdown",
      "metadata": {
        "id": "zBKMK7oGyx05"
      },
      "source": [
        "### Splitting the data for undersampling"
      ]
    },
    {
      "cell_type": "markdown",
      "metadata": {
        "id": "Kvj4kUyB84P0"
      },
      "source": [
        "Sebelum melakukan undersampling, saya memisahkan dengan dataframe aslinya terlebih dahulu. Hal ini dilakukan karena nantinya pada saat evaluasi model (evaluation), saya akan menguji model dengan dataframe aslinya bukan dataframe yang dibuat dengan teknik undersampling. Tujuannya untuk menyesuaikan model dengan dataframe sebelum dilakukan undersample atau oversample dan dapat mendeteksi pola lebih baik."
      ]
    },
    {
      "cell_type": "code",
      "execution_count": 12,
      "metadata": {
        "id": "LZoldwxhwXVW"
      },
      "outputs": [],
      "source": [
        "X = data.drop('fraud', axis=1)\n",
        "y = data['fraud']\n",
        "\n",
        "x_train, x_test, y_train, y_test = train_test_split(X, y, test_size=0.2, random_state=42)"
      ]
    },
    {
      "cell_type": "code",
      "execution_count": 13,
      "metadata": {
        "id": "agO3phQwxEtB"
      },
      "outputs": [],
      "source": [
        "train_unique_label, train_counts_label = np.unique(y_train, return_counts=True)\n",
        "test_unique_label, test_counts_label = np.unique(y_test, return_counts=True)"
      ]
    },
    {
      "cell_type": "markdown",
      "metadata": {
        "id": "5vLyK-RWg3YL"
      },
      "source": [
        "### Random Under Sampling"
      ]
    },
    {
      "cell_type": "code",
      "execution_count": 14,
      "metadata": {
        "id": "e02kADYjhPr0"
      },
      "outputs": [],
      "source": [
        "df = data.sample(frac=1)"
      ]
    },
    {
      "cell_type": "code",
      "execution_count": 15,
      "metadata": {
        "id": "_VCFILur0od3"
      },
      "outputs": [],
      "source": [
        "fraud_df = df.loc[df['fraud'] == 1]\n",
        "non_fraud_df = df.loc[df['fraud'] == 0][:fraud_1]"
      ]
    },
    {
      "cell_type": "code",
      "execution_count": 16,
      "metadata": {
        "id": "GpkyACNQ1OCF"
      },
      "outputs": [],
      "source": [
        "normal_distributed_df = pd.concat([fraud_df, non_fraud_df])"
      ]
    },
    {
      "cell_type": "code",
      "execution_count": 17,
      "metadata": {
        "colab": {
          "base_uri": "https://localhost:8080/",
          "height": 270
        },
        "id": "D2mXWLDs1TaL",
        "outputId": "4937de7f-6360-45e6-f2e0-b45ffbce4b12"
      },
      "outputs": [
        {
          "data": {
            "text/html": [
              "<div>\n",
              "<style scoped>\n",
              "    .dataframe tbody tr th:only-of-type {\n",
              "        vertical-align: middle;\n",
              "    }\n",
              "\n",
              "    .dataframe tbody tr th {\n",
              "        vertical-align: top;\n",
              "    }\n",
              "\n",
              "    .dataframe thead th {\n",
              "        text-align: right;\n",
              "    }\n",
              "</style>\n",
              "<table border=\"1\" class=\"dataframe\">\n",
              "  <thead>\n",
              "    <tr style=\"text-align: right;\">\n",
              "      <th></th>\n",
              "      <th>distance_from_home</th>\n",
              "      <th>distance_from_last_transaction</th>\n",
              "      <th>ratio_to_median_purchase_price</th>\n",
              "      <th>repeat_retailer</th>\n",
              "      <th>used_chip</th>\n",
              "      <th>used_pin_number</th>\n",
              "      <th>online_order</th>\n",
              "      <th>fraud</th>\n",
              "    </tr>\n",
              "  </thead>\n",
              "  <tbody>\n",
              "    <tr>\n",
              "      <th>667539</th>\n",
              "      <td>44.697541</td>\n",
              "      <td>7.903891</td>\n",
              "      <td>4.976819</td>\n",
              "      <td>1.0</td>\n",
              "      <td>0.0</td>\n",
              "      <td>0.0</td>\n",
              "      <td>1.0</td>\n",
              "      <td>1.0</td>\n",
              "    </tr>\n",
              "    <tr>\n",
              "      <th>722480</th>\n",
              "      <td>113.930884</td>\n",
              "      <td>0.145017</td>\n",
              "      <td>0.219482</td>\n",
              "      <td>1.0</td>\n",
              "      <td>0.0</td>\n",
              "      <td>0.0</td>\n",
              "      <td>1.0</td>\n",
              "      <td>1.0</td>\n",
              "    </tr>\n",
              "    <tr>\n",
              "      <th>32179</th>\n",
              "      <td>2.206906</td>\n",
              "      <td>20.288222</td>\n",
              "      <td>0.872481</td>\n",
              "      <td>1.0</td>\n",
              "      <td>1.0</td>\n",
              "      <td>0.0</td>\n",
              "      <td>1.0</td>\n",
              "      <td>0.0</td>\n",
              "    </tr>\n",
              "    <tr>\n",
              "      <th>112635</th>\n",
              "      <td>10.167144</td>\n",
              "      <td>28.425966</td>\n",
              "      <td>0.134878</td>\n",
              "      <td>1.0</td>\n",
              "      <td>1.0</td>\n",
              "      <td>0.0</td>\n",
              "      <td>0.0</td>\n",
              "      <td>0.0</td>\n",
              "    </tr>\n",
              "    <tr>\n",
              "      <th>948360</th>\n",
              "      <td>6.496224</td>\n",
              "      <td>0.820273</td>\n",
              "      <td>1.698770</td>\n",
              "      <td>1.0</td>\n",
              "      <td>0.0</td>\n",
              "      <td>0.0</td>\n",
              "      <td>1.0</td>\n",
              "      <td>0.0</td>\n",
              "    </tr>\n",
              "  </tbody>\n",
              "</table>\n",
              "</div>"
            ],
            "text/plain": [
              "        distance_from_home  distance_from_last_transaction  \\\n",
              "667539           44.697541                        7.903891   \n",
              "722480          113.930884                        0.145017   \n",
              "32179             2.206906                       20.288222   \n",
              "112635           10.167144                       28.425966   \n",
              "948360            6.496224                        0.820273   \n",
              "\n",
              "        ratio_to_median_purchase_price  repeat_retailer  used_chip  \\\n",
              "667539                        4.976819              1.0        0.0   \n",
              "722480                        0.219482              1.0        0.0   \n",
              "32179                         0.872481              1.0        1.0   \n",
              "112635                        0.134878              1.0        1.0   \n",
              "948360                        1.698770              1.0        0.0   \n",
              "\n",
              "        used_pin_number  online_order  fraud  \n",
              "667539              0.0           1.0    1.0  \n",
              "722480              0.0           1.0    1.0  \n",
              "32179               0.0           1.0    0.0  \n",
              "112635              0.0           0.0    0.0  \n",
              "948360              0.0           1.0    0.0  "
            ]
          },
          "execution_count": 17,
          "metadata": {},
          "output_type": "execute_result"
        }
      ],
      "source": [
        "new_df = normal_distributed_df.sample(frac=1, random_state=42)\n",
        "\n",
        "new_df.head()"
      ]
    },
    {
      "cell_type": "code",
      "execution_count": 18,
      "metadata": {
        "colab": {
          "base_uri": "https://localhost:8080/",
          "height": 834
        },
        "id": "cm7e3UdX1VCr",
        "outputId": "d87b464d-1402-40b1-df04-659546ce05af"
      },
      "outputs": [
        {
          "data": {
            "image/png": "[encoded data removed]",
            "text/plain": [
              "<Figure size 1440x1080 with 9 Axes>"
            ]
          },
          "metadata": {
            "needs_background": "light"
          },
          "output_type": "display_data"
        }
      ],
      "source": [
        "new_df.hist(bins=50, figsize=(20,15))\n",
        "plt.show()"
      ]
    },
    {
      "cell_type": "markdown",
      "metadata": {
        "id": "_rH1g6S26SEV"
      },
      "source": [
        "Ketika distribusi data fraud sudah seimbang, barulah saya melakukan pembersihan data lebih lanjut dengan menghilangkan outlier."
      ]
    },
    {
      "cell_type": "markdown",
      "metadata": {
        "id": "XZFExDyc7KqE"
      },
      "source": [
        "## Handle Outlier"
      ]
    },
    {
      "cell_type": "code",
      "execution_count": 19,
      "metadata": {
        "id": "_sEfhGWl5Xwz"
      },
      "outputs": [],
      "source": [
        "data_numeric = [\"distance_from_home\", \"distance_from_last_transaction\", \"ratio_to_median_purchase_price\"]"
      ]
    },
    {
      "cell_type": "code",
      "execution_count": 20,
      "metadata": {
        "colab": {
          "base_uri": "https://localhost:8080/",
          "height": 297
        },
        "id": "R5POc47t5dEt",
        "outputId": "73056821-d9de-4e00-8cbe-f0b3b7258341"
      },
      "outputs": [
        {
          "data": {
            "text/plain": [
              "<AxesSubplot:xlabel='distance_from_last_transaction'>"
            ]
          },
          "execution_count": 20,
          "metadata": {},
          "output_type": "execute_result"
        },
        {
          "data": {
            "image/png": "[encoded data removed]",
            "text/plain": [
              "<Figure size 432x288 with 1 Axes>"
            ]
          },
          "metadata": {
            "needs_background": "light"
          },
          "output_type": "display_data"
        }
      ],
      "source": [
        "sns.boxplot(x = new_df[\"distance_from_last_transaction\"])"
      ]
    },
    {
      "cell_type": "code",
      "execution_count": 21,
      "metadata": {
        "colab": {
          "base_uri": "https://localhost:8080/",
          "height": 297
        },
        "id": "NUZ0C0rS5YTO",
        "outputId": "d7be190f-6deb-4e0d-97b6-a3375d6faab1"
      },
      "outputs": [
        {
          "data": {
            "text/plain": [
              "<AxesSubplot:xlabel='distance_from_home'>"
            ]
          },
          "execution_count": 21,
          "metadata": {},
          "output_type": "execute_result"
        },
        {
          "data": {
            "image/png": "[encoded data removed]",
            "text/plain": [
              "<Figure size 432x288 with 1 Axes>"
            ]
          },
          "metadata": {
            "needs_background": "light"
          },
          "output_type": "display_data"
        }
      ],
      "source": [
        "sns.boxplot(x = new_df[\"distance_from_home\"])"
      ]
    },
    {
      "cell_type": "code",
      "execution_count": 22,
      "metadata": {
        "colab": {
          "base_uri": "https://localhost:8080/",
          "height": 297
        },
        "id": "GBy0RNK-5d55",
        "outputId": "1c42d96e-9ac1-4c78-de43-d86b7e333901"
      },
      "outputs": [
        {
          "data": {
            "text/plain": [
              "<AxesSubplot:xlabel='ratio_to_median_purchase_price'>"
            ]
          },
          "execution_count": 22,
          "metadata": {},
          "output_type": "execute_result"
        },
        {
          "data": {
            "image/png": "[encoded data removed]",
            "text/plain": [
              "<Figure size 432x288 with 1 Axes>"
            ]
          },
          "metadata": {
            "needs_background": "light"
          },
          "output_type": "display_data"
        }
      ],
      "source": [
        "sns.boxplot(x = new_df[\"ratio_to_median_purchase_price\"])"
      ]
    },
    {
      "cell_type": "markdown",
      "metadata": {
        "id": "iSWjs6bu6eev"
      },
      "source": [
        "Dari boxplot diatas, dapat diperoleh informasi bahwa terdapat beberapa nilai yang terlalu jauh dari distribusi nilai normalnya. Untuk itu, saya hanya menghilangkan nilai-nilai terakhir (dari quantile terakhir) sehingga distribusi nilainya dapat menjadi lebih baik dan tidak menghilangkan terlalu banyak data. Saya akan menggunakan batas bawah mulai quantile=0 dan batas atas pada quantile=0.99."
      ]
    },
    {
      "cell_type": "code",
      "execution_count": 23,
      "metadata": {
        "colab": {
          "base_uri": "https://localhost:8080/"
        },
        "id": "gpRgKAUN50T1",
        "outputId": "8c19d226-00fb-4dad-a01a-4166db619a63"
      },
      "outputs": [
        {
          "data": {
            "text/plain": [
              "(174142, 8)"
            ]
          },
          "execution_count": 23,
          "metadata": {},
          "output_type": "execute_result"
        }
      ],
      "source": [
        "Q1 = new_df.quantile(0)\n",
        "Q3 = new_df.quantile(0.99)\n",
        "IQR=Q3-Q1\n",
        "new_df=new_df[~((new_df<(Q1-1.5*IQR))|(new_df>(Q3+1.5*IQR))).any(axis=1)]\n",
        " \n",
        "# Cek ukuran dataset setelah kita drop outliers\n",
        "new_df.shape"
      ]
    },
    {
      "cell_type": "markdown",
      "metadata": {
        "id": "BtQeFiMl--CZ"
      },
      "source": [
        "## Multivariate"
      ]
    },
    {
      "cell_type": "code",
      "execution_count": 24,
      "metadata": {
        "colab": {
          "base_uri": "https://localhost:8080/",
          "height": 759
        },
        "id": "eYwDBkSm1bVl",
        "outputId": "c783bdee-e838-4e83-9338-fa5e3bba9e2e"
      },
      "outputs": [
        {
          "data": {
            "image/png": "[encoded data removed]",
            "text/plain": [
              "<Figure size 720x720 with 1 Axes>"
            ]
          },
          "metadata": {
            "needs_background": "light"
          },
          "output_type": "display_data"
        }
      ],
      "source": [
        "plt.figure(figsize=(10, 10))\n",
        "\n",
        "sns.heatmap(new_df.select_dtypes(np.number).corr(), \n",
        "            annot=True,\n",
        "            cbar=False,\n",
        "            cmap=\"YlGnBu\",\n",
        "            xticklabels=new_df.select_dtypes(np.number).columns,\n",
        "            yticklabels=new_df.select_dtypes(np.number).columns)\n",
        "plt.title('Correlation of Numeric Features')\n",
        "plt.show()"
      ]
    },
    {
      "cell_type": "markdown",
      "metadata": {
        "id": "kEYpvabq7P5j"
      },
      "source": [
        "Jika diamati, fitur repeat_retailer memiliki korelasi sangat rendah dengan fitur target yaitu fraud. Sehingga, fitur tersebut dapat di-drop."
      ]
    },
    {
      "cell_type": "code",
      "execution_count": 25,
      "metadata": {
        "colab": {
          "base_uri": "https://localhost:8080/",
          "height": 250
        },
        "id": "YqNPHnNf7eui",
        "outputId": "f22bc73b-5aeb-4bc4-943f-411bc8877e31"
      },
      "outputs": [
        {
          "data": {
            "text/html": [
              "<div>\n",
              "<style scoped>\n",
              "    .dataframe tbody tr th:only-of-type {\n",
              "        vertical-align: middle;\n",
              "    }\n",
              "\n",
              "    .dataframe tbody tr th {\n",
              "        vertical-align: top;\n",
              "    }\n",
              "\n",
              "    .dataframe thead th {\n",
              "        text-align: right;\n",
              "    }\n",
              "</style>\n",
              "<table border=\"1\" class=\"dataframe\">\n",
              "  <thead>\n",
              "    <tr style=\"text-align: right;\">\n",
              "      <th></th>\n",
              "      <th>distance_from_home</th>\n",
              "      <th>distance_from_last_transaction</th>\n",
              "      <th>ratio_to_median_purchase_price</th>\n",
              "      <th>used_chip</th>\n",
              "      <th>used_pin_number</th>\n",
              "      <th>online_order</th>\n",
              "      <th>fraud</th>\n",
              "    </tr>\n",
              "  </thead>\n",
              "  <tbody>\n",
              "    <tr>\n",
              "      <th>667539</th>\n",
              "      <td>44.697541</td>\n",
              "      <td>7.903891</td>\n",
              "      <td>4.976819</td>\n",
              "      <td>0.0</td>\n",
              "      <td>0.0</td>\n",
              "      <td>1.0</td>\n",
              "      <td>1.0</td>\n",
              "    </tr>\n",
              "    <tr>\n",
              "      <th>722480</th>\n",
              "      <td>113.930884</td>\n",
              "      <td>0.145017</td>\n",
              "      <td>0.219482</td>\n",
              "      <td>0.0</td>\n",
              "      <td>0.0</td>\n",
              "      <td>1.0</td>\n",
              "      <td>1.0</td>\n",
              "    </tr>\n",
              "    <tr>\n",
              "      <th>32179</th>\n",
              "      <td>2.206906</td>\n",
              "      <td>20.288222</td>\n",
              "      <td>0.872481</td>\n",
              "      <td>1.0</td>\n",
              "      <td>0.0</td>\n",
              "      <td>1.0</td>\n",
              "      <td>0.0</td>\n",
              "    </tr>\n",
              "    <tr>\n",
              "      <th>112635</th>\n",
              "      <td>10.167144</td>\n",
              "      <td>28.425966</td>\n",
              "      <td>0.134878</td>\n",
              "      <td>1.0</td>\n",
              "      <td>0.0</td>\n",
              "      <td>0.0</td>\n",
              "      <td>0.0</td>\n",
              "    </tr>\n",
              "    <tr>\n",
              "      <th>948360</th>\n",
              "      <td>6.496224</td>\n",
              "      <td>0.820273</td>\n",
              "      <td>1.698770</td>\n",
              "      <td>0.0</td>\n",
              "      <td>0.0</td>\n",
              "      <td>1.0</td>\n",
              "      <td>0.0</td>\n",
              "    </tr>\n",
              "  </tbody>\n",
              "</table>\n",
              "</div>"
            ],
            "text/plain": [
              "        distance_from_home  distance_from_last_transaction  \\\n",
              "667539           44.697541                        7.903891   \n",
              "722480          113.930884                        0.145017   \n",
              "32179             2.206906                       20.288222   \n",
              "112635           10.167144                       28.425966   \n",
              "948360            6.496224                        0.820273   \n",
              "\n",
              "        ratio_to_median_purchase_price  used_chip  used_pin_number  \\\n",
              "667539                        4.976819        0.0              0.0   \n",
              "722480                        0.219482        0.0              0.0   \n",
              "32179                         0.872481        1.0              0.0   \n",
              "112635                        0.134878        1.0              0.0   \n",
              "948360                        1.698770        0.0              0.0   \n",
              "\n",
              "        online_order  fraud  \n",
              "667539           1.0    1.0  \n",
              "722480           1.0    1.0  \n",
              "32179            1.0    0.0  \n",
              "112635           0.0    0.0  \n",
              "948360           1.0    0.0  "
            ]
          },
          "execution_count": 25,
          "metadata": {},
          "output_type": "execute_result"
        }
      ],
      "source": [
        "new_df.drop(['repeat_retailer'], inplace=True, axis=1)\n",
        "new_df.head()"
      ]
    },
    {
      "cell_type": "markdown",
      "metadata": {
        "id": "u4zu1pkb_Bhi"
      },
      "source": [
        "# Data Preparation"
      ]
    },
    {
      "cell_type": "markdown",
      "metadata": {
        "id": "FqIT6POQBT5g"
      },
      "source": [
        "## Train Test Split"
      ]
    },
    {
      "cell_type": "code",
      "execution_count": 26,
      "metadata": {
        "id": "pEHQOl3uBTko"
      },
      "outputs": [],
      "source": [
        "new_X = new_df.drop('fraud', axis=1)\n",
        "new_y = new_df['fraud']\n",
        "\n",
        "new_x_train, new_x_test, new_y_train, new_y_test = train_test_split(new_X, new_y, test_size=0.2, random_state=42)"
      ]
    },
    {
      "cell_type": "code",
      "execution_count": 27,
      "metadata": {
        "id": "jW4SvK9H7s9A"
      },
      "outputs": [],
      "source": [
        "x_test.drop(['repeat_retailer'], inplace=True, axis=1)"
      ]
    },
    {
      "cell_type": "code",
      "execution_count": 28,
      "metadata": {
        "colab": {
          "base_uri": "https://localhost:8080/"
        },
        "id": "7nnWPIeIBreV",
        "outputId": "8482407a-b8ba-4ee0-e107-b9b948bf47f8"
      },
      "outputs": [
        {
          "name": "stdout",
          "output_type": "stream",
          "text": [
            "Total sample in train dataset: 139313\n",
            "Total sample in test dataset: 34829\n",
            "Total sample in test original dataset: 200000\n"
          ]
        }
      ],
      "source": [
        "print(f'Total sample in train dataset: {len(new_x_train)}')\n",
        "print(f'Total sample in test dataset: {len(new_x_test)}')\n",
        "print(f'Total sample in test original dataset: {len(x_test)}')"
      ]
    },
    {
      "cell_type": "markdown",
      "metadata": {
        "id": "TfN5MZMmB5or"
      },
      "source": [
        "## Stardardization"
      ]
    },
    {
      "cell_type": "code",
      "execution_count": 29,
      "metadata": {
        "id": "PPcyM8hUBoxs"
      },
      "outputs": [],
      "source": [
        "scaler = MinMaxScaler()\n",
        "scaler.fit(new_x_train)\n",
        "new_x_train = scaler.transform(new_x_train)\n",
        "x_test = scaler.transform(x_test)"
      ]
    },
    {
      "cell_type": "markdown",
      "metadata": {
        "id": "3I8UJc1uMNYM"
      },
      "source": [
        "# Modeling"
      ]
    },
    {
      "cell_type": "markdown",
      "metadata": {
        "id": "__gVjooIMtrA"
      },
      "source": [
        "Disini saya akan melakukan perbandingan antara dua algoritma, yaitu:\n",
        "- Naive Bayes\n",
        "- Logistic Regression"
      ]
    },
    {
      "cell_type": "markdown",
      "metadata": {
        "id": "yHWUmYeiR0Lg"
      },
      "source": [
        "## Naive Bayes"
      ]
    },
    {
      "cell_type": "code",
      "execution_count": 30,
      "metadata": {
        "id": "Mdlut1foR1io"
      },
      "outputs": [],
      "source": [
        "from sklearn.naive_bayes import GaussianNB\n",
        "\n",
        "bayes = GaussianNB()\n",
        "bayes.fit(new_x_train, new_y_train)\n",
        "model_bayes = bayes.predict(x_test)"
      ]
    },
    {
      "cell_type": "markdown",
      "metadata": {
        "id": "YyipzQx7RxXf"
      },
      "source": [
        "## Logistic Regression"
      ]
    },
    {
      "cell_type": "code",
      "execution_count": 31,
      "metadata": {
        "id": "WY6NrzFiRzKP"
      },
      "outputs": [],
      "source": [
        "from sklearn.linear_model import LogisticRegression\n",
        " \n",
        "lr = LogisticRegression()\n",
        "lr.fit(new_x_train, new_y_train)\n",
        "model_lr = lr.predict(x_test)"
      ]
    },
    {
      "cell_type": "markdown",
      "metadata": {
        "id": "Il8NkaNzRrDD"
      },
      "source": [
        "# Evaluation"
      ]
    },
    {
      "cell_type": "code",
      "execution_count": 32,
      "metadata": {
        "id": "Abn0gfvmRsRR"
      },
      "outputs": [],
      "source": [
        "def evaluate_classifier_performance(classifier, prediction, y_test = y_test, x_test = x_test):\n",
        "    print(\"Hasil Evaluasi:\\n\\n%s\\n\" % (classification_report(y_test, classifier.predict(x_test))))\n",
        "\n",
        "    print('Accuracy:', accuracy_score(y_test, prediction))\n",
        "    print('Precision Macro Average:', precision_score(y_test, prediction, average='macro'))\n",
        "    print('Precision Micro Average:', precision_score(y_test, prediction, average='micro'))\n",
        "    print('Recall Macro Average:', recall_score(y_test, prediction, average='macro'))\n",
        "    print('Recall Micro Average:', recall_score(y_test, prediction, average='micro'))\n",
        "    print('F1 Macro Average:', f1_score(y_test, prediction, average='macro'))\n",
        "    print('F1 Micro Average:', f1_score(y_test, prediction, average='micro'))\n",
        "\n",
        "    print(\"\\n\\nConfusion Matrix\\n\")\n",
        "    ConfusionMatrixDisplay.from_estimator(classifier, x_test, y_test)"
      ]
    },
    {
      "cell_type": "code",
      "execution_count": 33,
      "metadata": {
        "colab": {
          "base_uri": "https://localhost:8080/",
          "height": 678
        },
        "id": "mL1uIy4PRt27",
        "outputId": "e17fd892-d747-413c-88a0-573dfd7f06a3"
      },
      "outputs": [
        {
          "name": "stdout",
          "output_type": "stream",
          "text": [
            "Hasil Evaluasi:\n",
            "\n",
            "              precision    recall  f1-score   support\n",
            "\n",
            "         0.0       1.00      0.87      0.93    182557\n",
            "         1.0       0.42      0.97      0.59     17443\n",
            "\n",
            "    accuracy                           0.88    200000\n",
            "   macro avg       0.71      0.92      0.76    200000\n",
            "weighted avg       0.95      0.88      0.90    200000\n",
            "\n",
            "\n",
            "Accuracy: 0.880375\n",
            "Precision Macro Average: 0.707928210635757\n",
            "Precision Micro Average: 0.880375\n",
            "Recall Macro Average: 0.9196688187065132\n",
            "Recall Micro Average: 0.880375\n",
            "F1 Macro Average: 0.757621946880048\n",
            "F1 Micro Average: 0.880375\n",
            "\n",
            "\n",
            "Confusion Matrix\n",
            "\n"
          ]
        },
        {
          "data": {
            "image/png": "[encoded data removed]",
            "text/plain": [
              "<Figure size 432x288 with 2 Axes>"
            ]
          },
          "metadata": {
            "needs_background": "light"
          },
          "output_type": "display_data"
        }
      ],
      "source": [
        "evaluate_classifier_performance(bayes, model_bayes)"
      ]
    },
    {
      "cell_type": "code",
      "execution_count": 34,
      "metadata": {
        "colab": {
          "base_uri": "https://localhost:8080/",
          "height": 678
        },
        "id": "Vava6LkhSpPt",
        "outputId": "e15b2ed5-2e93-487b-c693-429c4b853236"
      },
      "outputs": [
        {
          "name": "stdout",
          "output_type": "stream",
          "text": [
            "Hasil Evaluasi:\n",
            "\n",
            "              precision    recall  f1-score   support\n",
            "\n",
            "         0.0       1.00      0.93      0.96    182557\n",
            "         1.0       0.57      0.96      0.72     17443\n",
            "\n",
            "    accuracy                           0.93    200000\n",
            "   macro avg       0.78      0.94      0.84    200000\n",
            "weighted avg       0.96      0.93      0.94    200000\n",
            "\n",
            "\n",
            "Accuracy: 0.93378\n",
            "Precision Macro Average: 0.7837597488678416\n",
            "Precision Micro Average: 0.93378\n",
            "Recall Macro Average: 0.9436078813011801\n",
            "Recall Micro Average: 0.93378\n",
            "F1 Macro Average: 0.8390930692100154\n",
            "F1 Micro Average: 0.93378\n",
            "\n",
            "\n",
            "Confusion Matrix\n",
            "\n"
          ]
        },
        {
          "data": {
            "image/png": "[encoded data removed]",
            "text/plain": [
              "<Figure size 432x288 with 2 Axes>"
            ]
          },
          "metadata": {
            "needs_background": "light"
          },
          "output_type": "display_data"
        }
      ],
      "source": [
        "evaluate_classifier_performance(lr, model_lr)"
      ]
    },
    {
      "cell_type": "code",
      "execution_count": null,
      "metadata": {},
      "outputs": [],
      "source": []
    }
  ],
  "metadata": {
    "colab": {
      "name": "Credit Card Fraud Detection",
      "provenance": []
    },
    "interpreter": {
      "hash": "ba53a595d377893a5d8f198985857c9e6d561d1f944dd06ed29a4a9d0362b6ce"
    },
    "kernelspec": {
      "display_name": "Python 3.8.8 ('base')",
      "language": "python",
      "name": "python3"
    },
    "language_info": {
      "codemirror_mode": {
        "name": "ipython",
        "version": 3
      },
      "file_extension": ".py",
      "mimetype": "text/x-python",
      "name": "python",
      "nbconvert_exporter": "python",
      "pygments_lexer": "ipython3",
      "version": "3.8.8"
    }
  },
  "nbformat": 4,
  "nbformat_minor": 0
}
